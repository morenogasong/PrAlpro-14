{
  "nbformat": 4,
  "nbformat_minor": 0,
  "metadata": {
    "colab": {
      "provenance": []
    },
    "kernelspec": {
      "name": "python3",
      "display_name": "Python 3"
    },
    "language_info": {
      "name": "python"
    }
  },
  "cells": [
    {
      "cell_type": "markdown",
      "source": [
        "**Latihan 13.1**\n",
        "\n",
        "Vidi adalah adik Tono yang sedang belajar bilangan prima. Vidi mengalami kesulitan untuk menentukan suatu bilangan bilangan prima atau bukan. Untuk membantu adiknya Tono kemudian membuat program untuk pengecekan bilangan prima dengan menggunakan fungsi rekursif. Bantulah Tono untuk menyelesaikan tugas tersebut.\n"
      ],
      "metadata": {
        "id": "FfIkxuuFs3vj"
      }
    },
    {
      "cell_type": "code",
      "source": [
        "def prima(n, i=2):\n",
        "\n",
        "    if n <= 1:\n",
        "        return False\n",
        "    elif n == i:\n",
        "        return True\n",
        "    elif i > n**0.5:\n",
        "        return True\n",
        "    elif n % i == 0:\n",
        "        return False\n",
        "    else:\n",
        "        return prima(n, i + 1)\n",
        "\n",
        "number = int(input(\"Masukkan angka : \"))\n",
        "if prima(number):\n",
        "    print(f\"{number} adalah bilangan prima.\")\n",
        "else:\n",
        "    print(f\"{number} bukan bilangan prima.\")\n"
      ],
      "metadata": {
        "colab": {
          "base_uri": "https://localhost:8080/"
        },
        "id": "f3v4CFAqs89X",
        "outputId": "04591a1c-b152-4230-ed46-f49131473763"
      },
      "execution_count": 1,
      "outputs": [
        {
          "output_type": "stream",
          "name": "stdout",
          "text": [
            "Masukkan angka : 23\n",
            "23 adalah bilangan prima.\n"
          ]
        }
      ]
    },
    {
      "cell_type": "markdown",
      "source": [
        "**Latihan 13.2**\n",
        "\n",
        "Buatlah fungsi rekursif mengetahui suatu kalimat adalah palindrom atau bukan!\n"
      ],
      "metadata": {
        "id": "75b5hSXKtBEP"
      }
    },
    {
      "cell_type": "code",
      "source": [
        "def palindrom(word):\n",
        "    if len(word) <= 1:\n",
        "        return True\n",
        "    else:\n",
        "        if word[0] != word[-1]:\n",
        "            return False\n",
        "        else:\n",
        "            return palindrom(word[1:-1])\n",
        "\n",
        "kata = input(\"Masukkan Kalimat : \")\n",
        "if palindrom(kata):\n",
        "    print(f\"{kata} adalah Kalimat Palindrom.\")\n",
        "else:\n",
        "    print(f\"{kata} bukan Kalimat Palindrom.\")"
      ],
      "metadata": {
        "colab": {
          "base_uri": "https://localhost:8080/"
        },
        "id": "LRmBWAqZtL_W",
        "outputId": "a8381f13-69bf-411e-df21-e4f941a39d6d"
      },
      "execution_count": 2,
      "outputs": [
        {
          "output_type": "stream",
          "name": "stdout",
          "text": [
            "Masukkan Kalimat : morom\n",
            "morom adalah Kalimat Palindrom.\n"
          ]
        }
      ]
    },
    {
      "cell_type": "markdown",
      "source": [
        "**Latihan 13.3**\n",
        "\n",
        "Buatlah fungsi rekursif untuk menghitung jumlah deret ganjil dari 1 + 3 + 7 + . . . + n!\n"
      ],
      "metadata": {
        "id": "pB0us_xUtPFw"
      }
    },
    {
      "cell_type": "code",
      "source": [
        "def jumlah_deret_ganjil(n):\n",
        "    if n % 2 == 0:\n",
        "        n -= 1\n",
        "\n",
        "    if n == 1:\n",
        "        return 1\n",
        "    else:\n",
        "        return (n + jumlah_deret_ganjil(n-2))\n",
        "\n",
        "n = int(input(\"Masukkan angka : \"))\n",
        "print(jumlah_deret_ganjil(n))\n"
      ],
      "metadata": {
        "colab": {
          "base_uri": "https://localhost:8080/"
        },
        "id": "BVLBljbOtY_F",
        "outputId": "4b4e4931-2179-4bfd-88c9-da0f985c9927"
      },
      "execution_count": 3,
      "outputs": [
        {
          "output_type": "stream",
          "name": "stdout",
          "text": [
            "Masukkan angka : 7\n",
            "16\n"
          ]
        }
      ]
    },
    {
      "cell_type": "markdown",
      "source": [
        "**Latihan 13.4**\n",
        "\n",
        "Buatlah fungsi rekursif untuk mengetahui jumlah digit dari suatu bilangan. Seperti misalnya tulisan: \"234\" maka jumlah digitnya adalah 2+3+4 = 9!\n"
      ],
      "metadata": {
        "id": "-DR_5J3btceY"
      }
    },
    {
      "cell_type": "code",
      "source": [
        "def jumlah_digit(n):\n",
        "    if n == 0:\n",
        "        return 0\n",
        "    else:\n",
        "        return n % 10 + jumlah_digit(n // 10)\n",
        "\n",
        "n = int(input(\"Masukkan angka : \"))\n",
        "print(jumlah_digit(n))\n"
      ],
      "metadata": {
        "colab": {
          "base_uri": "https://localhost:8080/"
        },
        "id": "T78rmWZOtpLf",
        "outputId": "686e0d43-406b-4831-eccb-ff6dcdd4d8b0"
      },
      "execution_count": 4,
      "outputs": [
        {
          "output_type": "stream",
          "name": "stdout",
          "text": [
            "Masukkan angka : 123\n",
            "6\n"
          ]
        }
      ]
    },
    {
      "cell_type": "markdown",
      "source": [
        "**Latihan 13.5**\n",
        "\n",
        "Buatlah fungsi rekursif untuk menghitung kombinasi!\n"
      ],
      "metadata": {
        "id": "yPogbBiPtt7S"
      }
    },
    {
      "cell_type": "code",
      "source": [
        "def kombinasi(n, k):\n",
        "    if k > n:\n",
        "        return 0\n",
        "    elif k == 0 or k == n:\n",
        "        return 1\n",
        "    else:\n",
        "        return kombinasi(n-1, k-1) + kombinasi(n-1, k)\n",
        "\n",
        "n = int(input(\"Masukkan angkanya : \"))\n",
        "k = int(input(\"Masukkan angkanya : \"))\n",
        "print(\"Kombinasi dari\", n, \"dengan\", k, \"adalah:\", kombinasi(n, k))"
      ],
      "metadata": {
        "colab": {
          "base_uri": "https://localhost:8080/"
        },
        "id": "4Qz4ngDntxQm",
        "outputId": "44e92305-bb4e-48bd-b023-e2e1d52a8a7e"
      },
      "execution_count": 5,
      "outputs": [
        {
          "output_type": "stream",
          "name": "stdout",
          "text": [
            "Masukkan angkanya : 5\n",
            "Masukkan angkanya : 2\n",
            "Kombinasi dari 5 dengan 2 adalah: 10\n"
          ]
        }
      ]
    }
  ]
}